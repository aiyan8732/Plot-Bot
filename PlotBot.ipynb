{
 "cells": [
  {
   "cell_type": "code",
   "execution_count": 1,
   "metadata": {},
   "outputs": [],
   "source": [
    "# Dependencies\n",
    "import tweepy\n",
    "import numpy as np\n",
    "import pandas as pd\n",
    "import matplotlib.pyplot as plt\n",
    "import time\n",
    "from datetime import datetime\n",
    "\n",
    "# Import and Initialize Sentiment Analyzer\n",
    "from vaderSentiment.vaderSentiment import SentimentIntensityAnalyzer\n",
    "analyzer = SentimentIntensityAnalyzer()\n",
    "\n",
    "# Twitter API Keys\n",
    "from config import (consumer_key, \n",
    "                    consumer_secret, \n",
    "                    access_token, \n",
    "                    access_token_secret)\n",
    "\n",
    "# Setup Tweepy API Authentication\n",
    "auth = tweepy.OAuthHandler(consumer_key, consumer_secret)\n",
    "auth.set_access_token(access_token, access_token_secret)\n",
    "api = tweepy.API(auth, parser=tweepy.parsers.JSONParser())"
   ]
  },
  {
   "cell_type": "code",
   "execution_count": 2,
   "metadata": {},
   "outputs": [],
   "source": [
    "# Target Term\n",
    "request_target_term = \"@aiyan8732 Analyze:\"\n",
    "# list to store media_account\n",
    "media_list = []"
   ]
  },
  {
   "cell_type": "code",
   "execution_count": 3,
   "metadata": {},
   "outputs": [],
   "source": [
    "def PlotBot():\n",
    "    public_tweets = api.search(request_target_term, count=5, result_type=\"recent\")   \n",
    "    \n",
    "    for tweet in public_tweets[\"statuses\"]:\n",
    "        # locate media account name requested by user\n",
    "        media_index = tweet[\"text\"].index('@', 1)\n",
    "        media_account = tweet[\"text\"][media_index:]        \n",
    "        # request user id\n",
    "        tweet_id = tweet[\"id\"]\n",
    "        tweet_author = tweet[\"user\"][\"screen_name\"]\n",
    "        # Variables for holding sentiments\n",
    "        sentiments = []\n",
    "        # Counter\n",
    "        counter = 1\n",
    "        # Variable for max_id\n",
    "        oldest_tweet = None\n",
    "        \n",
    "        # Loop through 25 pages of tweets (total 500 tweets)\n",
    "        for x in range(25):\n",
    "            media_tweets = api.user_timeline(media_account, max_id = oldest_tweet)\n",
    "            for tweet in media_tweets:\n",
    "                results = analyzer.polarity_scores(tweet[\"text\"])\n",
    "                compound = results[\"compound\"]\n",
    "                tweets_ago = counter\n",
    "                # Get Tweet ID, subtract 1, and assign to oldest_tweet\n",
    "                oldest_tweet = tweet['id'] - 1\n",
    "                sentiments.append({\"Tweet Account\": media_account, \n",
    "                                   \"Compound\": compound,\n",
    "                                   \"Tweets Ago\": counter})\n",
    "                counter += 1\n",
    "                \n",
    "        # Convert sentiments to DataFrame\n",
    "        sentiments_pd = pd.DataFrame.from_dict(sentiments)\n",
    "        \n",
    "        # Create plot\n",
    "        plt.style.use('seaborn-darkgrid')\n",
    "        x_vals = sentiments_pd[\"Tweets Ago\"]\n",
    "        y_vals = sentiments_pd[\"Compound\"]\n",
    "        plt.plot(x_vals,\n",
    "                 y_vals, marker=\"o\", linewidth=0.5,\n",
    "                 alpha=0.8, color=\"blueviolet\", label=media_account)\n",
    "        #  Incorporate the other graph properties\n",
    "        now = datetime.now()\n",
    "        now = now.strftime(\"%Y-%m-%d %H:%M\")\n",
    "        plt.title(f\"Sentiment Analysis of Tweets ({now}) for {media_account}\")\n",
    "        plt.xlim([x_vals.max()+10,x_vals.min()-10])\n",
    "        lgd = plt.legend(title=\"Tweets\",loc='lower left', bbox_to_anchor=(1, 0.5))\n",
    "        plt.ylabel(\"Tweet Polarity\")\n",
    "        plt.xlabel(\"Tweets Ago\")\n",
    "        \n",
    "        # save plot to png\n",
    "        plt.savefig(f\"Scatter_Tweets_Sentiment_{media_account[1:]}.png\",bbox_extra_artists=(lgd,), bbox_inches='tight')\n",
    "        # refresh the graph\n",
    "        plt.gcf().clear()       \n",
    "\n",
    "        # only analyzing Twitter accounts that have not previously been stored in media_list\n",
    "        if media_account not in media_list:\n",
    "            media_list.append(media_account)\n",
    "            # Respond to tweet \n",
    "            api.update_with_media(f\"Scatter_Tweets_Sentiment_{media_account[1:]}.png\",\n",
    "                      f\"New Tweet Analysis: {media_account} (Thank you @{tweet_author} !)\",in_reply_to_status_id=tweet_id)\n",
    "            # Print success message\n",
    "            print(\"Successful response!\")\n",
    "        else:\n",
    "            print(f\"Please reference previously released sentiment data of {media_account}\")"
   ]
  },
  {
   "cell_type": "code",
   "execution_count": 4,
   "metadata": {},
   "outputs": [
    {
     "name": "stdout",
     "output_type": "stream",
     "text": [
      "Successful response!\n",
      "Successful response!\n",
      "Successful response!\n",
      "Please reference previously released sentiment data of @NBA\n",
      "Please reference previously released sentiment data of @NFL\n",
      "Please reference previously released sentiment data of @MLB\n"
     ]
    },
    {
     "ename": "KeyboardInterrupt",
     "evalue": "",
     "output_type": "error",
     "traceback": [
      "\u001b[0;31m---------------------------------------------------------------------------\u001b[0m",
      "\u001b[0;31mKeyboardInterrupt\u001b[0m                         Traceback (most recent call last)",
      "\u001b[0;32m<ipython-input-4-961dd744573e>\u001b[0m in \u001b[0;36m<module>\u001b[0;34m()\u001b[0m\n\u001b[1;32m      1\u001b[0m \u001b[0;32mwhile\u001b[0m\u001b[0;34m(\u001b[0m\u001b[0;32mTrue\u001b[0m\u001b[0;34m)\u001b[0m\u001b[0;34m:\u001b[0m\u001b[0;34m\u001b[0m\u001b[0m\n\u001b[1;32m      2\u001b[0m     \u001b[0mPlotBot\u001b[0m\u001b[0;34m(\u001b[0m\u001b[0;34m)\u001b[0m\u001b[0;34m\u001b[0m\u001b[0m\n\u001b[0;32m----> 3\u001b[0;31m     \u001b[0mtime\u001b[0m\u001b[0;34m.\u001b[0m\u001b[0msleep\u001b[0m\u001b[0;34m(\u001b[0m\u001b[0;36m300\u001b[0m\u001b[0;34m)\u001b[0m\u001b[0;34m\u001b[0m\u001b[0m\n\u001b[0m",
      "\u001b[0;31mKeyboardInterrupt\u001b[0m: "
     ]
    },
    {
     "data": {
      "text/plain": [
       "<matplotlib.figure.Figure at 0x1101efe80>"
      ]
     },
     "metadata": {},
     "output_type": "display_data"
    }
   ],
   "source": [
    "while(True):\n",
    "    PlotBot()\n",
    "    time.sleep(300)"
   ]
  },
  {
   "cell_type": "code",
   "execution_count": null,
   "metadata": {},
   "outputs": [],
   "source": []
  }
 ],
 "metadata": {
  "kernelspec": {
   "display_name": "Python 3",
   "language": "python",
   "name": "python3"
  },
  "language_info": {
   "codemirror_mode": {
    "name": "ipython",
    "version": 3
   },
   "file_extension": ".py",
   "mimetype": "text/x-python",
   "name": "python",
   "nbconvert_exporter": "python",
   "pygments_lexer": "ipython3",
   "version": "3.6.4"
  }
 },
 "nbformat": 4,
 "nbformat_minor": 2
}
